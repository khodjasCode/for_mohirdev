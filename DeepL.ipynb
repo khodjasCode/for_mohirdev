{
  "nbformat": 4,
  "nbformat_minor": 0,
  "metadata": {
    "colab": {
      "provenance": [],
      "authorship_tag": "ABX9TyMvMSTa/jgw2PRhZ6C7xYZy",
      "include_colab_link": true
    },
    "kernelspec": {
      "name": "python3",
      "display_name": "Python 3"
    },
    "language_info": {
      "name": "python"
    }
  },
  "cells": [
    {
      "cell_type": "markdown",
      "metadata": {
        "id": "view-in-github",
        "colab_type": "text"
      },
      "source": [
        "<a href=\"https://colab.research.google.com/github/khodjasCode/for_mohirdev/blob/main/DeepL.ipynb\" target=\"_parent\"><img src=\"https://colab.research.google.com/assets/colab-badge.svg\" alt=\"Open In Colab\"/></a>"
      ]
    },
    {
      "cell_type": "code",
      "execution_count": 2,
      "metadata": {
        "id": "5cX5xLrCzG9e"
      },
      "outputs": [],
      "source": [
        "import fastai\n",
        "import torch"
      ]
    },
    {
      "cell_type": "code",
      "source": [
        "from fastai.vision.all import *\n",
        "\n",
        "path = untar_data(URLs.MNIST_SAMPLE)\n",
        "\n",
        "threes = (path/'train'/'3').ls().sorted()\n",
        "sevens = (path/'train'/'7').ls().sorted()"
      ],
      "metadata": {
        "colab": {
          "base_uri": "https://localhost:8080/",
          "height": 37
        },
        "id": "SZg1u1yNzLm3",
        "outputId": "b845823e-db18-44a4-eb4d-230bf359459a"
      },
      "execution_count": 2,
      "outputs": [
        {
          "output_type": "display_data",
          "data": {
            "text/plain": [
              "<IPython.core.display.HTML object>"
            ],
            "text/html": [
              "\n",
              "<style>\n",
              "    /* Turns off some styling */\n",
              "    progress {\n",
              "        /* gets rid of default border in Firefox and Opera. */\n",
              "        border: none;\n",
              "        /* Needs to be in here for Safari polyfill so background images work as expected. */\n",
              "        background-size: auto;\n",
              "    }\n",
              "    progress:not([value]), progress:not([value])::-webkit-progress-bar {\n",
              "        background: repeating-linear-gradient(45deg, #7e7e7e, #7e7e7e 10px, #5c5c5c 10px, #5c5c5c 20px);\n",
              "    }\n",
              "    .progress-bar-interrupted, .progress-bar-interrupted::-webkit-progress-bar {\n",
              "        background: #F44336;\n",
              "    }\n",
              "</style>\n"
            ]
          },
          "metadata": {}
        },
        {
          "output_type": "display_data",
          "data": {
            "text/plain": [
              "<IPython.core.display.HTML object>"
            ],
            "text/html": [
              "\n",
              "    <div>\n",
              "      <progress value='3219456' class='' max='3214948' style='width:300px; height:20px; vertical-align: middle;'></progress>\n",
              "      100.14% [3219456/3214948 00:00&lt;00:00]\n",
              "    </div>\n",
              "    "
            ]
          },
          "metadata": {}
        }
      ]
    },
    {
      "cell_type": "code",
      "source": [
        "im3_sample = threes[100]\n",
        "im3 = Image.open(im3_sample)\n",
        "# for showing the image in console we will use PILImage()\n",
        "im3"
      ],
      "metadata": {
        "colab": {
          "base_uri": "https://localhost:8080/",
          "height": 45
        },
        "id": "wq4p5v0b0Kvm",
        "outputId": "a82be6f0-aded-4dc7-9e80-85d8ed8402b9"
      },
      "execution_count": 3,
      "outputs": [
        {
          "output_type": "execute_result",
          "data": {
            "text/plain": [
              "<PIL.PngImagePlugin.PngImageFile image mode=L size=28x28>"
            ],
            "image/png": "[encoded data removed]",
            "image/jpeg": "[encoded data removed]"
          },
          "metadata": {},
          "execution_count": 3
        }
      ]
    },
    {
      "cell_type": "code",
      "source": [
        "im7_sample = sevens[33]\n",
        "im7 = Image.open(im7_sample)\n",
        "# for showing the image in console we will use PILImage()\n",
        "im7"
      ],
      "metadata": {
        "colab": {
          "base_uri": "https://localhost:8080/",
          "height": 45
        },
        "id": "02jiSxLT09Aa",
        "outputId": "e4f8eb6f-3130-4dbf-d87b-477d1d616e55"
      },
      "execution_count": 4,
      "outputs": [
        {
          "output_type": "execute_result",
          "data": {
            "text/plain": [
              "<PIL.PngImagePlugin.PngImageFile image mode=L size=28x28>"
            ],
            "image/png": "[encoded data removed]",
            "image/jpeg": "[encoded data removed]"
          },
          "metadata": {},
          "execution_count": 4
        }
      ]
    },
    {
      "cell_type": "code",
      "source": [
        "array(im3)[4:10, 4:10] # only in CPU"
      ],
      "metadata": {
        "colab": {
          "base_uri": "https://localhost:8080/"
        },
        "id": "Phb18_8W1ePT",
        "outputId": "d94e565a-609d-445e-c68d-7169c19e9bfb"
      },
      "execution_count": 5,
      "outputs": [
        {
          "output_type": "execute_result",
          "data": {
            "text/plain": [
              "array([[  0,   0,   0,   0,   0,   0],\n",
              "       [  0,   0,   0,   0,   8, 134],\n",
              "       [  0,   0,  27, 132, 196, 253],\n",
              "       [  8, 133, 233, 253, 253, 253],\n",
              "       [ 36, 253, 253, 253, 223, 182],\n",
              "       [ 36, 253, 253, 222,  41,   0]], dtype=uint8)"
            ]
          },
          "metadata": {},
          "execution_count": 5
        }
      ]
    },
    {
      "cell_type": "code",
      "source": [
        "tensor(im3)[4:10, 4:10] # GPU acceptable"
      ],
      "metadata": {
        "colab": {
          "base_uri": "https://localhost:8080/"
        },
        "id": "SvieQyjo844I",
        "outputId": "a2e738eb-60b1-4fc0-e7dc-f9807e43ded2"
      },
      "execution_count": 6,
      "outputs": [
        {
          "output_type": "execute_result",
          "data": {
            "text/plain": [
              "tensor([[  0,   0,   0,   0,   0,   0],\n",
              "        [  0,   0,   0,   0,   8, 134],\n",
              "        [  0,   0,  27, 132, 196, 253],\n",
              "        [  8, 133, 233, 253, 253, 253],\n",
              "        [ 36, 253, 253, 253, 223, 182],\n",
              "        [ 36, 253, 253, 222,  41,   0]], dtype=torch.uint8)"
            ]
          },
          "metadata": {},
          "execution_count": 6
        }
      ]
    },
    {
      "cell_type": "code",
      "source": [
        "import pandas as pd\n",
        "\n",
        "im3_t = tensor(im3)\n",
        "df = pd.DataFrame(im3_t[4:22, 4:22])\n",
        "df.style.set_properties(**{'font-size':'6pt'}).background_gradient('Greys')"
      ],
      "metadata": {
        "colab": {
          "base_uri": "https://localhost:8080/",
          "height": 613
        },
        "id": "-q-5evf-9R3x",
        "outputId": "d9a31667-c8a5-489b-f59b-b4229990ee4c"
      },
      "execution_count": 7,
      "outputs": [
        {
          "output_type": "execute_result",
          "data": {
            "text/plain": [
              "<pandas.io.formats.style.Styler at 0x7e36827db8d0>"
            ],
            "text/html": [
              "<style type=\"text/css\">\n",
              "#T_c1609_row0_col0, #T_c1609_row0_col1, #T_c1609_row0_col2, #T_c1609_row0_col3, #T_c1609_row0_col4, #T_c1609_row0_col5, #T_c1609_row0_col6, #T_c1609_row0_col7, #T_c1609_row0_col8, #T_c1609_row0_col9, #T_c1609_row0_col10, #T_c1609_row0_col11, #T_c1609_row0_col12, #T_c1609_row0_col13, #T_c1609_row0_col14, #T_c1609_row0_col15, #T_c1609_row0_col16, #T_c1609_row0_col17, #T_c1609_row1_col0, #T_c1609_row1_col1, #T_c1609_row1_col2, #T_c1609_row1_col3, #T_c1609_row1_col14, #T_c1609_row1_col15, #T_c1609_row1_col16, #T_c1609_row1_col17, #T_c1609_row2_col0, #T_c1609_row2_col1, #T_c1609_row2_col15, #T_c1609_row2_col16, #T_c1609_row2_col17, #T_c1609_row3_col17, #T_c1609_row4_col17, #T_c1609_row5_col5, #T_c1609_row5_col6, #T_c1609_row5_col7, #T_c1609_row5_col8, #T_c1609_row5_col9, #T_c1609_row5_col10, #T_c1609_row5_col11, #T_c1609_row5_col17, #T_c1609_row6_col4, #T_c1609_row6_col5, #T_c1609_row6_col6, #T_c1609_row6_col7, #T_c1609_row6_col8, #T_c1609_row6_col9, #T_c1609_row6_col10, #T_c1609_row6_col11, #T_c1609_row6_col17, #T_c1609_row7_col0, #T_c1609_row7_col1, #T_c1609_row7_col2, #T_c1609_row7_col3, #T_c1609_row7_col4, #T_c1609_row7_col5, #T_c1609_row7_col6, #T_c1609_row7_col7, #T_c1609_row7_col8, #T_c1609_row7_col9, #T_c1609_row7_col10, #T_c1609_row7_col17, #T_c1609_row8_col0, #T_c1609_row8_col1, #T_c1609_row8_col2, #T_c1609_row8_col3, #T_c1609_row8_col4, #T_c1609_row8_col5, #T_c1609_row8_col6, #T_c1609_row8_col7, #T_c1609_row8_col8, #T_c1609_row8_col16, #T_c1609_row8_col17, #T_c1609_row9_col0, #T_c1609_row9_col1, #T_c1609_row9_col2, #T_c1609_row9_col3, #T_c1609_row9_col4, #T_c1609_row9_col5, #T_c1609_row9_col15, #T_c1609_row9_col16, #T_c1609_row9_col17, #T_c1609_row10_col0, #T_c1609_row10_col1, #T_c1609_row10_col2, #T_c1609_row10_col3, #T_c1609_row10_col4, #T_c1609_row10_col15, #T_c1609_row10_col16, #T_c1609_row10_col17, #T_c1609_row11_col0, #T_c1609_row11_col1, #T_c1609_row11_col2, #T_c1609_row11_col3, #T_c1609_row11_col4, #T_c1609_row11_col14, #T_c1609_row11_col15, #T_c1609_row11_col16, #T_c1609_row11_col17, #T_c1609_row12_col0, #T_c1609_row12_col1, #T_c1609_row12_col2, #T_c1609_row12_col3, #T_c1609_row12_col4, #T_c1609_row12_col16, #T_c1609_row12_col17, #T_c1609_row13_col0, #T_c1609_row13_col1, #T_c1609_row13_col2, #T_c1609_row13_col3, #T_c1609_row13_col4, #T_c1609_row13_col15, #T_c1609_row13_col16, #T_c1609_row13_col17, #T_c1609_row14_col0, #T_c1609_row14_col1, #T_c1609_row14_col2, #T_c1609_row14_col3, #T_c1609_row14_col4, #T_c1609_row14_col5, #T_c1609_row14_col6, #T_c1609_row14_col7, #T_c1609_row14_col8, #T_c1609_row14_col16, #T_c1609_row14_col17, #T_c1609_row15_col0, #T_c1609_row15_col1, #T_c1609_row15_col2, #T_c1609_row15_col3, #T_c1609_row15_col4, #T_c1609_row15_col5, #T_c1609_row15_col6, #T_c1609_row15_col7, #T_c1609_row15_col8, #T_c1609_row15_col9, #T_c1609_row15_col16, #T_c1609_row15_col17, #T_c1609_row16_col0, #T_c1609_row16_col1, #T_c1609_row16_col2, #T_c1609_row16_col3, #T_c1609_row16_col4, #T_c1609_row16_col5, #T_c1609_row16_col6, #T_c1609_row16_col7, #T_c1609_row16_col8, #T_c1609_row16_col9, #T_c1609_row16_col10, #T_c1609_row16_col16, #T_c1609_row16_col17, #T_c1609_row17_col0, #T_c1609_row17_col1, #T_c1609_row17_col2, #T_c1609_row17_col3, #T_c1609_row17_col4, #T_c1609_row17_col16, #T_c1609_row17_col17 {\n",
              "  font-size: 6pt;\n",
              "  background-color: #ffffff;\n",
              "  color: #000000;\n",
              "}\n",
              "#T_c1609_row1_col4, #T_c1609_row1_col13 {\n",
              "  font-size: 6pt;\n",
              "  background-color: #fbfbfb;\n",
              "  color: #000000;\n",
              "}\n",
              "#T_c1609_row1_col5 {\n",
              "  font-size: 6pt;\n",
              "  background-color: #8e8e8e;\n",
              "  color: #f1f1f1;\n",
              "}\n",
              "#T_c1609_row1_col6, #T_c1609_row1_col7, #T_c1609_row1_col8, #T_c1609_row1_col9, #T_c1609_row1_col10, #T_c1609_row2_col5, #T_c1609_row2_col11, #T_c1609_row2_col12, #T_c1609_row3_col3, #T_c1609_row3_col4, #T_c1609_row3_col5, #T_c1609_row3_col11, #T_c1609_row3_col12, #T_c1609_row3_col13, #T_c1609_row4_col0, #T_c1609_row4_col1, #T_c1609_row4_col2, #T_c1609_row4_col3, #T_c1609_row4_col13, #T_c1609_row4_col14, #T_c1609_row4_col15, #T_c1609_row5_col0, #T_c1609_row5_col1, #T_c1609_row5_col2, #T_c1609_row5_col13, #T_c1609_row5_col14, #T_c1609_row5_col15, #T_c1609_row5_col16, #T_c1609_row6_col13, #T_c1609_row6_col14, #T_c1609_row6_col15, #T_c1609_row7_col13, #T_c1609_row7_col14, #T_c1609_row8_col12, #T_c1609_row8_col13, #T_c1609_row9_col11, #T_c1609_row9_col12, #T_c1609_row9_col13, #T_c1609_row10_col11, #T_c1609_row10_col12, #T_c1609_row11_col11, #T_c1609_row11_col12, #T_c1609_row12_col11, #T_c1609_row12_col12, #T_c1609_row13_col11, #T_c1609_row13_col12, #T_c1609_row14_col11, #T_c1609_row14_col12, #T_c1609_row14_col13, #T_c1609_row15_col12, #T_c1609_row15_col13, #T_c1609_row15_col14, #T_c1609_row16_col13, #T_c1609_row16_col14, #T_c1609_row17_col13, #T_c1609_row17_col14 {\n",
              "  font-size: 6pt;\n",
              "  background-color: #000000;\n",
              "  color: #f1f1f1;\n",
              "}\n",
              "#T_c1609_row1_col11 {\n",
              "  font-size: 6pt;\n",
              "  background-color: #404040;\n",
              "  color: #f1f1f1;\n",
              "}\n",
              "#T_c1609_row1_col12 {\n",
              "  font-size: 6pt;\n",
              "  background-color: #f5f5f5;\n",
              "  color: #000000;\n",
              "}\n",
              "#T_c1609_row2_col2, #T_c1609_row6_col0, #T_c1609_row10_col14 {\n",
              "  font-size: 6pt;\n",
              "  background-color: #f2f2f2;\n",
              "  color: #000000;\n",
              "}\n",
              "#T_c1609_row2_col3, #T_c1609_row13_col14 {\n",
              "  font-size: 6pt;\n",
              "  background-color: #909090;\n",
              "  color: #f1f1f1;\n",
              "}\n",
              "#T_c1609_row2_col4 {\n",
              "  font-size: 6pt;\n",
              "  background-color: #484848;\n",
              "  color: #f1f1f1;\n",
              "}\n",
              "#T_c1609_row2_col6, #T_c1609_row2_col7, #T_c1609_row2_col8, #T_c1609_row2_col9, #T_c1609_row3_col6, #T_c1609_row3_col7, #T_c1609_row3_col8, #T_c1609_row3_col9, #T_c1609_row4_col12, #T_c1609_row7_col15, #T_c1609_row10_col7, #T_c1609_row10_col8, #T_c1609_row10_col9, #T_c1609_row11_col6, #T_c1609_row11_col7, #T_c1609_row11_col8, #T_c1609_row11_col9, #T_c1609_row12_col6, #T_c1609_row12_col7, #T_c1609_row12_col8, #T_c1609_row12_col9, #T_c1609_row17_col12 {\n",
              "  font-size: 6pt;\n",
              "  background-color: #010101;\n",
              "  color: #f1f1f1;\n",
              "}\n",
              "#T_c1609_row2_col10, #T_c1609_row3_col10, #T_c1609_row9_col10, #T_c1609_row10_col10, #T_c1609_row11_col10, #T_c1609_row12_col10, #T_c1609_row13_col10, #T_c1609_row13_col13 {\n",
              "  font-size: 6pt;\n",
              "  background-color: #020202;\n",
              "  color: #f1f1f1;\n",
              "}\n",
              "#T_c1609_row2_col13 {\n",
              "  font-size: 6pt;\n",
              "  background-color: #4a4a4a;\n",
              "  color: #f1f1f1;\n",
              "}\n",
              "#T_c1609_row2_col14, #T_c1609_row9_col8 {\n",
              "  font-size: 6pt;\n",
              "  background-color: #d4d4d4;\n",
              "  color: #000000;\n",
              "}\n",
              "#T_c1609_row3_col0 {\n",
              "  font-size: 6pt;\n",
              "  background-color: #dfdfdf;\n",
              "  color: #000000;\n",
              "}\n",
              "#T_c1609_row3_col1 {\n",
              "  font-size: 6pt;\n",
              "  background-color: #8f8f8f;\n",
              "  color: #f1f1f1;\n",
              "}\n",
              "#T_c1609_row3_col2 {\n",
              "  font-size: 6pt;\n",
              "  background-color: #171717;\n",
              "  color: #f1f1f1;\n",
              "}\n",
              "#T_c1609_row3_col14 {\n",
              "  font-size: 6pt;\n",
              "  background-color: #111111;\n",
              "  color: #f1f1f1;\n",
              "}\n",
              "#T_c1609_row3_col15, #T_c1609_row13_col6, #T_c1609_row13_col7, #T_c1609_row13_col8 {\n",
              "  font-size: 6pt;\n",
              "  background-color: #868686;\n",
              "  color: #f1f1f1;\n",
              "}\n",
              "#T_c1609_row3_col16 {\n",
              "  font-size: 6pt;\n",
              "  background-color: #f7f7f7;\n",
              "  color: #000000;\n",
              "}\n",
              "#T_c1609_row4_col4 {\n",
              "  font-size: 6pt;\n",
              "  background-color: #232323;\n",
              "  color: #f1f1f1;\n",
              "}\n",
              "#T_c1609_row4_col5 {\n",
              "  font-size: 6pt;\n",
              "  background-color: #5a5a5a;\n",
              "  color: #f1f1f1;\n",
              "}\n",
              "#T_c1609_row4_col6 {\n",
              "  font-size: 6pt;\n",
              "  background-color: #5b5b5b;\n",
              "  color: #f1f1f1;\n",
              "}\n",
              "#T_c1609_row4_col7 {\n",
              "  font-size: 6pt;\n",
              "  background-color: #6e6e6e;\n",
              "  color: #f1f1f1;\n",
              "}\n",
              "#T_c1609_row4_col8, #T_c1609_row4_col9, #T_c1609_row4_col10 {\n",
              "  font-size: 6pt;\n",
              "  background-color: #d8d8d8;\n",
              "  color: #000000;\n",
              "}\n",
              "#T_c1609_row4_col11 {\n",
              "  font-size: 6pt;\n",
              "  background-color: #646464;\n",
              "  color: #f1f1f1;\n",
              "}\n",
              "#T_c1609_row4_col16, #T_c1609_row14_col14 {\n",
              "  font-size: 6pt;\n",
              "  background-color: #383838;\n",
              "  color: #f1f1f1;\n",
              "}\n",
              "#T_c1609_row5_col3 {\n",
              "  font-size: 6pt;\n",
              "  background-color: #242424;\n",
              "  color: #f1f1f1;\n",
              "}\n",
              "#T_c1609_row5_col4, #T_c1609_row9_col7 {\n",
              "  font-size: 6pt;\n",
              "  background-color: #e9e9e9;\n",
              "  color: #000000;\n",
              "}\n",
              "#T_c1609_row5_col12 {\n",
              "  font-size: 6pt;\n",
              "  background-color: #6c6c6c;\n",
              "  color: #f1f1f1;\n",
              "}\n",
              "#T_c1609_row6_col1 {\n",
              "  font-size: 6pt;\n",
              "  background-color: #e0e0e0;\n",
              "  color: #000000;\n",
              "}\n",
              "#T_c1609_row6_col2 {\n",
              "  font-size: 6pt;\n",
              "  background-color: #dcdcdc;\n",
              "  color: #000000;\n",
              "}\n",
              "#T_c1609_row6_col3, #T_c1609_row8_col9 {\n",
              "  font-size: 6pt;\n",
              "  background-color: #f6f6f6;\n",
              "  color: #000000;\n",
              "}\n",
              "#T_c1609_row6_col12 {\n",
              "  font-size: 6pt;\n",
              "  background-color: #f9f9f9;\n",
              "  color: #000000;\n",
              "}\n",
              "#T_c1609_row6_col16 {\n",
              "  font-size: 6pt;\n",
              "  background-color: #5c5c5c;\n",
              "  color: #f1f1f1;\n",
              "}\n",
              "#T_c1609_row7_col11 {\n",
              "  font-size: 6pt;\n",
              "  background-color: #fefefe;\n",
              "  color: #000000;\n",
              "}\n",
              "#T_c1609_row7_col12 {\n",
              "  font-size: 6pt;\n",
              "  background-color: #101010;\n",
              "  color: #f1f1f1;\n",
              "}\n",
              "#T_c1609_row7_col16 {\n",
              "  font-size: 6pt;\n",
              "  background-color: #cecece;\n",
              "  color: #000000;\n",
              "}\n",
              "#T_c1609_row8_col10 {\n",
              "  font-size: 6pt;\n",
              "  background-color: #9a9a9a;\n",
              "  color: #f1f1f1;\n",
              "}\n",
              "#T_c1609_row8_col11 {\n",
              "  font-size: 6pt;\n",
              "  background-color: #505050;\n",
              "  color: #f1f1f1;\n",
              "}\n",
              "#T_c1609_row8_col14 {\n",
              "  font-size: 6pt;\n",
              "  background-color: #050505;\n",
              "  color: #f1f1f1;\n",
              "}\n",
              "#T_c1609_row8_col15, #T_c1609_row10_col5 {\n",
              "  font-size: 6pt;\n",
              "  background-color: #666666;\n",
              "  color: #f1f1f1;\n",
              "}\n",
              "#T_c1609_row9_col6, #T_c1609_row12_col14 {\n",
              "  font-size: 6pt;\n",
              "  background-color: #f4f4f4;\n",
              "  color: #000000;\n",
              "}\n",
              "#T_c1609_row9_col9 {\n",
              "  font-size: 6pt;\n",
              "  background-color: #1a1a1a;\n",
              "  color: #f1f1f1;\n",
              "}\n",
              "#T_c1609_row9_col14 {\n",
              "  font-size: 6pt;\n",
              "  background-color: #555555;\n",
              "  color: #f1f1f1;\n",
              "}\n",
              "#T_c1609_row10_col6 {\n",
              "  font-size: 6pt;\n",
              "  background-color: #282828;\n",
              "  color: #f1f1f1;\n",
              "}\n",
              "#T_c1609_row10_col13 {\n",
              "  font-size: 6pt;\n",
              "  background-color: #7d7d7d;\n",
              "  color: #f1f1f1;\n",
              "}\n",
              "#T_c1609_row11_col5 {\n",
              "  font-size: 6pt;\n",
              "  background-color: #0c0c0c;\n",
              "  color: #f1f1f1;\n",
              "}\n",
              "#T_c1609_row11_col13 {\n",
              "  font-size: 6pt;\n",
              "  background-color: #afafaf;\n",
              "  color: #000000;\n",
              "}\n",
              "#T_c1609_row12_col5 {\n",
              "  font-size: 6pt;\n",
              "  background-color: #b6b6b6;\n",
              "  color: #000000;\n",
              "}\n",
              "#T_c1609_row12_col13 {\n",
              "  font-size: 6pt;\n",
              "  background-color: #3c3c3c;\n",
              "  color: #f1f1f1;\n",
              "}\n",
              "#T_c1609_row12_col15 {\n",
              "  font-size: 6pt;\n",
              "  background-color: #efefef;\n",
              "  color: #000000;\n",
              "}\n",
              "#T_c1609_row13_col5, #T_c1609_row14_col9, #T_c1609_row14_col15 {\n",
              "  font-size: 6pt;\n",
              "  background-color: #fdfdfd;\n",
              "  color: #000000;\n",
              "}\n",
              "#T_c1609_row13_col9 {\n",
              "  font-size: 6pt;\n",
              "  background-color: #1e1e1e;\n",
              "  color: #f1f1f1;\n",
              "}\n",
              "#T_c1609_row14_col10 {\n",
              "  font-size: 6pt;\n",
              "  background-color: #7a7a7a;\n",
              "  color: #f1f1f1;\n",
              "}\n",
              "#T_c1609_row15_col10 {\n",
              "  font-size: 6pt;\n",
              "  background-color: #eaeaea;\n",
              "  color: #000000;\n",
              "}\n",
              "#T_c1609_row15_col11 {\n",
              "  font-size: 6pt;\n",
              "  background-color: #1f1f1f;\n",
              "  color: #f1f1f1;\n",
              "}\n",
              "#T_c1609_row15_col15 {\n",
              "  font-size: 6pt;\n",
              "  background-color: #c7c7c7;\n",
              "  color: #000000;\n",
              "}\n",
              "#T_c1609_row16_col11 {\n",
              "  font-size: 6pt;\n",
              "  background-color: #ebebeb;\n",
              "  color: #000000;\n",
              "}\n",
              "#T_c1609_row16_col12 {\n",
              "  font-size: 6pt;\n",
              "  background-color: #030303;\n",
              "  color: #f1f1f1;\n",
              "}\n",
              "#T_c1609_row16_col15 {\n",
              "  font-size: 6pt;\n",
              "  background-color: #535353;\n",
              "  color: #f1f1f1;\n",
              "}\n",
              "#T_c1609_row17_col5 {\n",
              "  font-size: 6pt;\n",
              "  background-color: #dadada;\n",
              "  color: #000000;\n",
              "}\n",
              "#T_c1609_row17_col6 {\n",
              "  font-size: 6pt;\n",
              "  background-color: #cdcdcd;\n",
              "  color: #000000;\n",
              "}\n",
              "#T_c1609_row17_col7 {\n",
              "  font-size: 6pt;\n",
              "  background-color: #6d6d6d;\n",
              "  color: #f1f1f1;\n",
              "}\n",
              "#T_c1609_row17_col8, #T_c1609_row17_col9, #T_c1609_row17_col10 {\n",
              "  font-size: 6pt;\n",
              "  background-color: #d7d7d7;\n",
              "  color: #000000;\n",
              "}\n",
              "#T_c1609_row17_col11 {\n",
              "  font-size: 6pt;\n",
              "  background-color: #a0a0a0;\n",
              "  color: #f1f1f1;\n",
              "}\n",
              "#T_c1609_row17_col15 {\n",
              "  font-size: 6pt;\n",
              "  background-color: #737373;\n",
              "  color: #f1f1f1;\n",
              "}\n",
              "</style>\n",
              "<table id=\"T_c1609\" class=\"dataframe\">\n",
              "  <thead>\n",
              "    <tr>\n",
              "      <th class=\"blank level0\" >&nbsp;</th>\n",
              "      <th id=\"T_c1609_level0_col0\" class=\"col_heading level0 col0\" >0</th>\n",
              "      <th id=\"T_c1609_level0_col1\" class=\"col_heading level0 col1\" >1</th>\n",
              "      <th id=\"T_c1609_level0_col2\" class=\"col_heading level0 col2\" >2</th>\n",
              "      <th id=\"T_c1609_level0_col3\" class=\"col_heading level0 col3\" >3</th>\n",
              "      <th id=\"T_c1609_level0_col4\" class=\"col_heading level0 col4\" >4</th>\n",
              "      <th id=\"T_c1609_level0_col5\" class=\"col_heading level0 col5\" >5</th>\n",
              "      <th id=\"T_c1609_level0_col6\" class=\"col_heading level0 col6\" >6</th>\n",
              "      <th id=\"T_c1609_level0_col7\" class=\"col_heading level0 col7\" >7</th>\n",
              "      <th id=\"T_c1609_level0_col8\" class=\"col_heading level0 col8\" >8</th>\n",
              "      <th id=\"T_c1609_level0_col9\" class=\"col_heading level0 col9\" >9</th>\n",
              "      <th id=\"T_c1609_level0_col10\" class=\"col_heading level0 col10\" >10</th>\n",
              "      <th id=\"T_c1609_level0_col11\" class=\"col_heading level0 col11\" >11</th>\n",
              "      <th id=\"T_c1609_level0_col12\" class=\"col_heading level0 col12\" >12</th>\n",
              "      <th id=\"T_c1609_level0_col13\" class=\"col_heading level0 col13\" >13</th>\n",
              "      <th id=\"T_c1609_level0_col14\" class=\"col_heading level0 col14\" >14</th>\n",
              "      <th id=\"T_c1609_level0_col15\" class=\"col_heading level0 col15\" >15</th>\n",
              "      <th id=\"T_c1609_level0_col16\" class=\"col_heading level0 col16\" >16</th>\n",
              "      <th id=\"T_c1609_level0_col17\" class=\"col_heading level0 col17\" >17</th>\n",
              "    </tr>\n",
              "  </thead>\n",
              "  <tbody>\n",
              "    <tr>\n",
              "      <th id=\"T_c1609_level0_row0\" class=\"row_heading level0 row0\" >0</th>\n",
              "      <td id=\"T_c1609_row0_col0\" class=\"data row0 col0\" >0</td>\n",
              "      <td id=\"T_c1609_row0_col1\" class=\"data row0 col1\" >0</td>\n",
              "      <td id=\"T_c1609_row0_col2\" class=\"data row0 col2\" >0</td>\n",
              "      <td id=\"T_c1609_row0_col3\" class=\"data row0 col3\" >0</td>\n",
              "      <td id=\"T_c1609_row0_col4\" class=\"data row0 col4\" >0</td>\n",
              "      <td id=\"T_c1609_row0_col5\" class=\"data row0 col5\" >0</td>\n",
              "      <td id=\"T_c1609_row0_col6\" class=\"data row0 col6\" >0</td>\n",
              "      <td id=\"T_c1609_row0_col7\" class=\"data row0 col7\" >0</td>\n",
              "      <td id=\"T_c1609_row0_col8\" class=\"data row0 col8\" >0</td>\n",
              "      <td id=\"T_c1609_row0_col9\" class=\"data row0 col9\" >0</td>\n",
              "      <td id=\"T_c1609_row0_col10\" class=\"data row0 col10\" >0</td>\n",
              "      <td id=\"T_c1609_row0_col11\" class=\"data row0 col11\" >0</td>\n",
              "      <td id=\"T_c1609_row0_col12\" class=\"data row0 col12\" >0</td>\n",
              "      <td id=\"T_c1609_row0_col13\" class=\"data row0 col13\" >0</td>\n",
              "      <td id=\"T_c1609_row0_col14\" class=\"data row0 col14\" >0</td>\n",
              "      <td id=\"T_c1609_row0_col15\" class=\"data row0 col15\" >0</td>\n",
              "      <td id=\"T_c1609_row0_col16\" class=\"data row0 col16\" >0</td>\n",
              "      <td id=\"T_c1609_row0_col17\" class=\"data row0 col17\" >0</td>\n",
              "    </tr>\n",
              "    <tr>\n",
              "      <th id=\"T_c1609_level0_row1\" class=\"row_heading level0 row1\" >1</th>\n",
              "      <td id=\"T_c1609_row1_col0\" class=\"data row1 col0\" >0</td>\n",
              "      <td id=\"T_c1609_row1_col1\" class=\"data row1 col1\" >0</td>\n",
              "      <td id=\"T_c1609_row1_col2\" class=\"data row1 col2\" >0</td>\n",
              "      <td id=\"T_c1609_row1_col3\" class=\"data row1 col3\" >0</td>\n",
              "      <td id=\"T_c1609_row1_col4\" class=\"data row1 col4\" >8</td>\n",
              "      <td id=\"T_c1609_row1_col5\" class=\"data row1 col5\" >134</td>\n",
              "      <td id=\"T_c1609_row1_col6\" class=\"data row1 col6\" >254</td>\n",
              "      <td id=\"T_c1609_row1_col7\" class=\"data row1 col7\" >254</td>\n",
              "      <td id=\"T_c1609_row1_col8\" class=\"data row1 col8\" >254</td>\n",
              "      <td id=\"T_c1609_row1_col9\" class=\"data row1 col9\" >254</td>\n",
              "      <td id=\"T_c1609_row1_col10\" class=\"data row1 col10\" >255</td>\n",
              "      <td id=\"T_c1609_row1_col11\" class=\"data row1 col11\" >202</td>\n",
              "      <td id=\"T_c1609_row1_col12\" class=\"data row1 col12\" >21</td>\n",
              "      <td id=\"T_c1609_row1_col13\" class=\"data row1 col13\" >8</td>\n",
              "      <td id=\"T_c1609_row1_col14\" class=\"data row1 col14\" >0</td>\n",
              "      <td id=\"T_c1609_row1_col15\" class=\"data row1 col15\" >0</td>\n",
              "      <td id=\"T_c1609_row1_col16\" class=\"data row1 col16\" >0</td>\n",
              "      <td id=\"T_c1609_row1_col17\" class=\"data row1 col17\" >0</td>\n",
              "    </tr>\n",
              "    <tr>\n",
              "      <th id=\"T_c1609_level0_row2\" class=\"row_heading level0 row2\" >2</th>\n",
              "      <td id=\"T_c1609_row2_col0\" class=\"data row2 col0\" >0</td>\n",
              "      <td id=\"T_c1609_row2_col1\" class=\"data row2 col1\" >0</td>\n",
              "      <td id=\"T_c1609_row2_col2\" class=\"data row2 col2\" >27</td>\n",
              "      <td id=\"T_c1609_row2_col3\" class=\"data row2 col3\" >132</td>\n",
              "      <td id=\"T_c1609_row2_col4\" class=\"data row2 col4\" >196</td>\n",
              "      <td id=\"T_c1609_row2_col5\" class=\"data row2 col5\" >253</td>\n",
              "      <td id=\"T_c1609_row2_col6\" class=\"data row2 col6\" >253</td>\n",
              "      <td id=\"T_c1609_row2_col7\" class=\"data row2 col7\" >253</td>\n",
              "      <td id=\"T_c1609_row2_col8\" class=\"data row2 col8\" >253</td>\n",
              "      <td id=\"T_c1609_row2_col9\" class=\"data row2 col9\" >253</td>\n",
              "      <td id=\"T_c1609_row2_col10\" class=\"data row2 col10\" >253</td>\n",
              "      <td id=\"T_c1609_row2_col11\" class=\"data row2 col11\" >253</td>\n",
              "      <td id=\"T_c1609_row2_col12\" class=\"data row2 col12\" >253</td>\n",
              "      <td id=\"T_c1609_row2_col13\" class=\"data row2 col13\" >195</td>\n",
              "      <td id=\"T_c1609_row2_col14\" class=\"data row2 col14\" >70</td>\n",
              "      <td id=\"T_c1609_row2_col15\" class=\"data row2 col15\" >0</td>\n",
              "      <td id=\"T_c1609_row2_col16\" class=\"data row2 col16\" >0</td>\n",
              "      <td id=\"T_c1609_row2_col17\" class=\"data row2 col17\" >0</td>\n",
              "    </tr>\n",
              "    <tr>\n",
              "      <th id=\"T_c1609_level0_row3\" class=\"row_heading level0 row3\" >3</th>\n",
              "      <td id=\"T_c1609_row3_col0\" class=\"data row3 col0\" >8</td>\n",
              "      <td id=\"T_c1609_row3_col1\" class=\"data row3 col1\" >133</td>\n",
              "      <td id=\"T_c1609_row3_col2\" class=\"data row3 col2\" >233</td>\n",
              "      <td id=\"T_c1609_row3_col3\" class=\"data row3 col3\" >253</td>\n",
              "      <td id=\"T_c1609_row3_col4\" class=\"data row3 col4\" >253</td>\n",
              "      <td id=\"T_c1609_row3_col5\" class=\"data row3 col5\" >253</td>\n",
              "      <td id=\"T_c1609_row3_col6\" class=\"data row3 col6\" >253</td>\n",
              "      <td id=\"T_c1609_row3_col7\" class=\"data row3 col7\" >253</td>\n",
              "      <td id=\"T_c1609_row3_col8\" class=\"data row3 col8\" >253</td>\n",
              "      <td id=\"T_c1609_row3_col9\" class=\"data row3 col9\" >253</td>\n",
              "      <td id=\"T_c1609_row3_col10\" class=\"data row3 col10\" >253</td>\n",
              "      <td id=\"T_c1609_row3_col11\" class=\"data row3 col11\" >253</td>\n",
              "      <td id=\"T_c1609_row3_col12\" class=\"data row3 col12\" >253</td>\n",
              "      <td id=\"T_c1609_row3_col13\" class=\"data row3 col13\" >253</td>\n",
              "      <td id=\"T_c1609_row3_col14\" class=\"data row3 col14\" >238</td>\n",
              "      <td id=\"T_c1609_row3_col15\" class=\"data row3 col15\" >141</td>\n",
              "      <td id=\"T_c1609_row3_col16\" class=\"data row3 col16\" >11</td>\n",
              "      <td id=\"T_c1609_row3_col17\" class=\"data row3 col17\" >0</td>\n",
              "    </tr>\n",
              "    <tr>\n",
              "      <th id=\"T_c1609_level0_row4\" class=\"row_heading level0 row4\" >4</th>\n",
              "      <td id=\"T_c1609_row4_col0\" class=\"data row4 col0\" >36</td>\n",
              "      <td id=\"T_c1609_row4_col1\" class=\"data row4 col1\" >253</td>\n",
              "      <td id=\"T_c1609_row4_col2\" class=\"data row4 col2\" >253</td>\n",
              "      <td id=\"T_c1609_row4_col3\" class=\"data row4 col3\" >253</td>\n",
              "      <td id=\"T_c1609_row4_col4\" class=\"data row4 col4\" >223</td>\n",
              "      <td id=\"T_c1609_row4_col5\" class=\"data row4 col5\" >182</td>\n",
              "      <td id=\"T_c1609_row4_col6\" class=\"data row4 col6\" >182</td>\n",
              "      <td id=\"T_c1609_row4_col7\" class=\"data row4 col7\" >163</td>\n",
              "      <td id=\"T_c1609_row4_col8\" class=\"data row4 col8\" >65</td>\n",
              "      <td id=\"T_c1609_row4_col9\" class=\"data row4 col9\" >65</td>\n",
              "      <td id=\"T_c1609_row4_col10\" class=\"data row4 col10\" >65</td>\n",
              "      <td id=\"T_c1609_row4_col11\" class=\"data row4 col11\" >172</td>\n",
              "      <td id=\"T_c1609_row4_col12\" class=\"data row4 col12\" >252</td>\n",
              "      <td id=\"T_c1609_row4_col13\" class=\"data row4 col13\" >253</td>\n",
              "      <td id=\"T_c1609_row4_col14\" class=\"data row4 col14\" >253</td>\n",
              "      <td id=\"T_c1609_row4_col15\" class=\"data row4 col15\" >253</td>\n",
              "      <td id=\"T_c1609_row4_col16\" class=\"data row4 col16\" >140</td>\n",
              "      <td id=\"T_c1609_row4_col17\" class=\"data row4 col17\" >0</td>\n",
              "    </tr>\n",
              "    <tr>\n",
              "      <th id=\"T_c1609_level0_row5\" class=\"row_heading level0 row5\" >5</th>\n",
              "      <td id=\"T_c1609_row5_col0\" class=\"data row5 col0\" >36</td>\n",
              "      <td id=\"T_c1609_row5_col1\" class=\"data row5 col1\" >253</td>\n",
              "      <td id=\"T_c1609_row5_col2\" class=\"data row5 col2\" >253</td>\n",
              "      <td id=\"T_c1609_row5_col3\" class=\"data row5 col3\" >222</td>\n",
              "      <td id=\"T_c1609_row5_col4\" class=\"data row5 col4\" >41</td>\n",
              "      <td id=\"T_c1609_row5_col5\" class=\"data row5 col5\" >0</td>\n",
              "      <td id=\"T_c1609_row5_col6\" class=\"data row5 col6\" >0</td>\n",
              "      <td id=\"T_c1609_row5_col7\" class=\"data row5 col7\" >0</td>\n",
              "      <td id=\"T_c1609_row5_col8\" class=\"data row5 col8\" >0</td>\n",
              "      <td id=\"T_c1609_row5_col9\" class=\"data row5 col9\" >0</td>\n",
              "      <td id=\"T_c1609_row5_col10\" class=\"data row5 col10\" >0</td>\n",
              "      <td id=\"T_c1609_row5_col11\" class=\"data row5 col11\" >0</td>\n",
              "      <td id=\"T_c1609_row5_col12\" class=\"data row5 col12\" >165</td>\n",
              "      <td id=\"T_c1609_row5_col13\" class=\"data row5 col13\" >253</td>\n",
              "      <td id=\"T_c1609_row5_col14\" class=\"data row5 col14\" >253</td>\n",
              "      <td id=\"T_c1609_row5_col15\" class=\"data row5 col15\" >253</td>\n",
              "      <td id=\"T_c1609_row5_col16\" class=\"data row5 col16\" >170</td>\n",
              "      <td id=\"T_c1609_row5_col17\" class=\"data row5 col17\" >0</td>\n",
              "    </tr>\n",
              "    <tr>\n",
              "      <th id=\"T_c1609_level0_row6\" class=\"row_heading level0 row6\" >6</th>\n",
              "      <td id=\"T_c1609_row6_col0\" class=\"data row6 col0\" >4</td>\n",
              "      <td id=\"T_c1609_row6_col1\" class=\"data row6 col1\" >54</td>\n",
              "      <td id=\"T_c1609_row6_col2\" class=\"data row6 col2\" >59</td>\n",
              "      <td id=\"T_c1609_row6_col3\" class=\"data row6 col3\" >19</td>\n",
              "      <td id=\"T_c1609_row6_col4\" class=\"data row6 col4\" >0</td>\n",
              "      <td id=\"T_c1609_row6_col5\" class=\"data row6 col5\" >0</td>\n",
              "      <td id=\"T_c1609_row6_col6\" class=\"data row6 col6\" >0</td>\n",
              "      <td id=\"T_c1609_row6_col7\" class=\"data row6 col7\" >0</td>\n",
              "      <td id=\"T_c1609_row6_col8\" class=\"data row6 col8\" >0</td>\n",
              "      <td id=\"T_c1609_row6_col9\" class=\"data row6 col9\" >0</td>\n",
              "      <td id=\"T_c1609_row6_col10\" class=\"data row6 col10\" >0</td>\n",
              "      <td id=\"T_c1609_row6_col11\" class=\"data row6 col11\" >0</td>\n",
              "      <td id=\"T_c1609_row6_col12\" class=\"data row6 col12\" >12</td>\n",
              "      <td id=\"T_c1609_row6_col13\" class=\"data row6 col13\" >253</td>\n",
              "      <td id=\"T_c1609_row6_col14\" class=\"data row6 col14\" >253</td>\n",
              "      <td id=\"T_c1609_row6_col15\" class=\"data row6 col15\" >253</td>\n",
              "      <td id=\"T_c1609_row6_col16\" class=\"data row6 col16\" >121</td>\n",
              "      <td id=\"T_c1609_row6_col17\" class=\"data row6 col17\" >0</td>\n",
              "    </tr>\n",
              "    <tr>\n",
              "      <th id=\"T_c1609_level0_row7\" class=\"row_heading level0 row7\" >7</th>\n",
              "      <td id=\"T_c1609_row7_col0\" class=\"data row7 col0\" >0</td>\n",
              "      <td id=\"T_c1609_row7_col1\" class=\"data row7 col1\" >0</td>\n",
              "      <td id=\"T_c1609_row7_col2\" class=\"data row7 col2\" >0</td>\n",
              "      <td id=\"T_c1609_row7_col3\" class=\"data row7 col3\" >0</td>\n",
              "      <td id=\"T_c1609_row7_col4\" class=\"data row7 col4\" >0</td>\n",
              "      <td id=\"T_c1609_row7_col5\" class=\"data row7 col5\" >0</td>\n",
              "      <td id=\"T_c1609_row7_col6\" class=\"data row7 col6\" >0</td>\n",
              "      <td id=\"T_c1609_row7_col7\" class=\"data row7 col7\" >0</td>\n",
              "      <td id=\"T_c1609_row7_col8\" class=\"data row7 col8\" >0</td>\n",
              "      <td id=\"T_c1609_row7_col9\" class=\"data row7 col9\" >0</td>\n",
              "      <td id=\"T_c1609_row7_col10\" class=\"data row7 col10\" >0</td>\n",
              "      <td id=\"T_c1609_row7_col11\" class=\"data row7 col11\" >3</td>\n",
              "      <td id=\"T_c1609_row7_col12\" class=\"data row7 col12\" >239</td>\n",
              "      <td id=\"T_c1609_row7_col13\" class=\"data row7 col13\" >253</td>\n",
              "      <td id=\"T_c1609_row7_col14\" class=\"data row7 col14\" >253</td>\n",
              "      <td id=\"T_c1609_row7_col15\" class=\"data row7 col15\" >252</td>\n",
              "      <td id=\"T_c1609_row7_col16\" class=\"data row7 col16\" >51</td>\n",
              "      <td id=\"T_c1609_row7_col17\" class=\"data row7 col17\" >0</td>\n",
              "    </tr>\n",
              "    <tr>\n",
              "      <th id=\"T_c1609_level0_row8\" class=\"row_heading level0 row8\" >8</th>\n",
              "      <td id=\"T_c1609_row8_col0\" class=\"data row8 col0\" >0</td>\n",
              "      <td id=\"T_c1609_row8_col1\" class=\"data row8 col1\" >0</td>\n",
              "      <td id=\"T_c1609_row8_col2\" class=\"data row8 col2\" >0</td>\n",
              "      <td id=\"T_c1609_row8_col3\" class=\"data row8 col3\" >0</td>\n",
              "      <td id=\"T_c1609_row8_col4\" class=\"data row8 col4\" >0</td>\n",
              "      <td id=\"T_c1609_row8_col5\" class=\"data row8 col5\" >0</td>\n",
              "      <td id=\"T_c1609_row8_col6\" class=\"data row8 col6\" >0</td>\n",
              "      <td id=\"T_c1609_row8_col7\" class=\"data row8 col7\" >0</td>\n",
              "      <td id=\"T_c1609_row8_col8\" class=\"data row8 col8\" >0</td>\n",
              "      <td id=\"T_c1609_row8_col9\" class=\"data row8 col9\" >19</td>\n",
              "      <td id=\"T_c1609_row8_col10\" class=\"data row8 col10\" >124</td>\n",
              "      <td id=\"T_c1609_row8_col11\" class=\"data row8 col11\" >191</td>\n",
              "      <td id=\"T_c1609_row8_col12\" class=\"data row8 col12\" >253</td>\n",
              "      <td id=\"T_c1609_row8_col13\" class=\"data row8 col13\" >253</td>\n",
              "      <td id=\"T_c1609_row8_col14\" class=\"data row8 col14\" >249</td>\n",
              "      <td id=\"T_c1609_row8_col15\" class=\"data row8 col15\" >170</td>\n",
              "      <td id=\"T_c1609_row8_col16\" class=\"data row8 col16\" >0</td>\n",
              "      <td id=\"T_c1609_row8_col17\" class=\"data row8 col17\" >0</td>\n",
              "    </tr>\n",
              "    <tr>\n",
              "      <th id=\"T_c1609_level0_row9\" class=\"row_heading level0 row9\" >9</th>\n",
              "      <td id=\"T_c1609_row9_col0\" class=\"data row9 col0\" >0</td>\n",
              "      <td id=\"T_c1609_row9_col1\" class=\"data row9 col1\" >0</td>\n",
              "      <td id=\"T_c1609_row9_col2\" class=\"data row9 col2\" >0</td>\n",
              "      <td id=\"T_c1609_row9_col3\" class=\"data row9 col3\" >0</td>\n",
              "      <td id=\"T_c1609_row9_col4\" class=\"data row9 col4\" >0</td>\n",
              "      <td id=\"T_c1609_row9_col5\" class=\"data row9 col5\" >0</td>\n",
              "      <td id=\"T_c1609_row9_col6\" class=\"data row9 col6\" >24</td>\n",
              "      <td id=\"T_c1609_row9_col7\" class=\"data row9 col7\" >42</td>\n",
              "      <td id=\"T_c1609_row9_col8\" class=\"data row9 col8\" >70</td>\n",
              "      <td id=\"T_c1609_row9_col9\" class=\"data row9 col9\" >232</td>\n",
              "      <td id=\"T_c1609_row9_col10\" class=\"data row9 col10\" >253</td>\n",
              "      <td id=\"T_c1609_row9_col11\" class=\"data row9 col11\" >253</td>\n",
              "      <td id=\"T_c1609_row9_col12\" class=\"data row9 col12\" >253</td>\n",
              "      <td id=\"T_c1609_row9_col13\" class=\"data row9 col13\" >253</td>\n",
              "      <td id=\"T_c1609_row9_col14\" class=\"data row9 col14\" >186</td>\n",
              "      <td id=\"T_c1609_row9_col15\" class=\"data row9 col15\" >0</td>\n",
              "      <td id=\"T_c1609_row9_col16\" class=\"data row9 col16\" >0</td>\n",
              "      <td id=\"T_c1609_row9_col17\" class=\"data row9 col17\" >0</td>\n",
              "    </tr>\n",
              "    <tr>\n",
              "      <th id=\"T_c1609_level0_row10\" class=\"row_heading level0 row10\" >10</th>\n",
              "      <td id=\"T_c1609_row10_col0\" class=\"data row10 col0\" >0</td>\n",
              "      <td id=\"T_c1609_row10_col1\" class=\"data row10 col1\" >0</td>\n",
              "      <td id=\"T_c1609_row10_col2\" class=\"data row10 col2\" >0</td>\n",
              "      <td id=\"T_c1609_row10_col3\" class=\"data row10 col3\" >0</td>\n",
              "      <td id=\"T_c1609_row10_col4\" class=\"data row10 col4\" >0</td>\n",
              "      <td id=\"T_c1609_row10_col5\" class=\"data row10 col5\" >170</td>\n",
              "      <td id=\"T_c1609_row10_col6\" class=\"data row10 col6\" >220</td>\n",
              "      <td id=\"T_c1609_row10_col7\" class=\"data row10 col7\" >253</td>\n",
              "      <td id=\"T_c1609_row10_col8\" class=\"data row10 col8\" >253</td>\n",
              "      <td id=\"T_c1609_row10_col9\" class=\"data row10 col9\" >253</td>\n",
              "      <td id=\"T_c1609_row10_col10\" class=\"data row10 col10\" >253</td>\n",
              "      <td id=\"T_c1609_row10_col11\" class=\"data row10 col11\" >253</td>\n",
              "      <td id=\"T_c1609_row10_col12\" class=\"data row10 col12\" >253</td>\n",
              "      <td id=\"T_c1609_row10_col13\" class=\"data row10 col13\" >149</td>\n",
              "      <td id=\"T_c1609_row10_col14\" class=\"data row10 col14\" >27</td>\n",
              "      <td id=\"T_c1609_row10_col15\" class=\"data row10 col15\" >0</td>\n",
              "      <td id=\"T_c1609_row10_col16\" class=\"data row10 col16\" >0</td>\n",
              "      <td id=\"T_c1609_row10_col17\" class=\"data row10 col17\" >0</td>\n",
              "    </tr>\n",
              "    <tr>\n",
              "      <th id=\"T_c1609_level0_row11\" class=\"row_heading level0 row11\" >11</th>\n",
              "      <td id=\"T_c1609_row11_col0\" class=\"data row11 col0\" >0</td>\n",
              "      <td id=\"T_c1609_row11_col1\" class=\"data row11 col1\" >0</td>\n",
              "      <td id=\"T_c1609_row11_col2\" class=\"data row11 col2\" >0</td>\n",
              "      <td id=\"T_c1609_row11_col3\" class=\"data row11 col3\" >0</td>\n",
              "      <td id=\"T_c1609_row11_col4\" class=\"data row11 col4\" >0</td>\n",
              "      <td id=\"T_c1609_row11_col5\" class=\"data row11 col5\" >243</td>\n",
              "      <td id=\"T_c1609_row11_col6\" class=\"data row11 col6\" >253</td>\n",
              "      <td id=\"T_c1609_row11_col7\" class=\"data row11 col7\" >253</td>\n",
              "      <td id=\"T_c1609_row11_col8\" class=\"data row11 col8\" >253</td>\n",
              "      <td id=\"T_c1609_row11_col9\" class=\"data row11 col9\" >253</td>\n",
              "      <td id=\"T_c1609_row11_col10\" class=\"data row11 col10\" >253</td>\n",
              "      <td id=\"T_c1609_row11_col11\" class=\"data row11 col11\" >253</td>\n",
              "      <td id=\"T_c1609_row11_col12\" class=\"data row11 col12\" >253</td>\n",
              "      <td id=\"T_c1609_row11_col13\" class=\"data row11 col13\" >106</td>\n",
              "      <td id=\"T_c1609_row11_col14\" class=\"data row11 col14\" >0</td>\n",
              "      <td id=\"T_c1609_row11_col15\" class=\"data row11 col15\" >0</td>\n",
              "      <td id=\"T_c1609_row11_col16\" class=\"data row11 col16\" >0</td>\n",
              "      <td id=\"T_c1609_row11_col17\" class=\"data row11 col17\" >0</td>\n",
              "    </tr>\n",
              "    <tr>\n",
              "      <th id=\"T_c1609_level0_row12\" class=\"row_heading level0 row12\" >12</th>\n",
              "      <td id=\"T_c1609_row12_col0\" class=\"data row12 col0\" >0</td>\n",
              "      <td id=\"T_c1609_row12_col1\" class=\"data row12 col1\" >0</td>\n",
              "      <td id=\"T_c1609_row12_col2\" class=\"data row12 col2\" >0</td>\n",
              "      <td id=\"T_c1609_row12_col3\" class=\"data row12 col3\" >0</td>\n",
              "      <td id=\"T_c1609_row12_col4\" class=\"data row12 col4\" >0</td>\n",
              "      <td id=\"T_c1609_row12_col5\" class=\"data row12 col5\" >100</td>\n",
              "      <td id=\"T_c1609_row12_col6\" class=\"data row12 col6\" >253</td>\n",
              "      <td id=\"T_c1609_row12_col7\" class=\"data row12 col7\" >253</td>\n",
              "      <td id=\"T_c1609_row12_col8\" class=\"data row12 col8\" >253</td>\n",
              "      <td id=\"T_c1609_row12_col9\" class=\"data row12 col9\" >253</td>\n",
              "      <td id=\"T_c1609_row12_col10\" class=\"data row12 col10\" >253</td>\n",
              "      <td id=\"T_c1609_row12_col11\" class=\"data row12 col11\" >253</td>\n",
              "      <td id=\"T_c1609_row12_col12\" class=\"data row12 col12\" >253</td>\n",
              "      <td id=\"T_c1609_row12_col13\" class=\"data row12 col13\" >205</td>\n",
              "      <td id=\"T_c1609_row12_col14\" class=\"data row12 col14\" >23</td>\n",
              "      <td id=\"T_c1609_row12_col15\" class=\"data row12 col15\" >33</td>\n",
              "      <td id=\"T_c1609_row12_col16\" class=\"data row12 col16\" >0</td>\n",
              "      <td id=\"T_c1609_row12_col17\" class=\"data row12 col17\" >0</td>\n",
              "    </tr>\n",
              "    <tr>\n",
              "      <th id=\"T_c1609_level0_row13\" class=\"row_heading level0 row13\" >13</th>\n",
              "      <td id=\"T_c1609_row13_col0\" class=\"data row13 col0\" >0</td>\n",
              "      <td id=\"T_c1609_row13_col1\" class=\"data row13 col1\" >0</td>\n",
              "      <td id=\"T_c1609_row13_col2\" class=\"data row13 col2\" >0</td>\n",
              "      <td id=\"T_c1609_row13_col3\" class=\"data row13 col3\" >0</td>\n",
              "      <td id=\"T_c1609_row13_col4\" class=\"data row13 col4\" >0</td>\n",
              "      <td id=\"T_c1609_row13_col5\" class=\"data row13 col5\" >4</td>\n",
              "      <td id=\"T_c1609_row13_col6\" class=\"data row13 col6\" >141</td>\n",
              "      <td id=\"T_c1609_row13_col7\" class=\"data row13 col7\" >141</td>\n",
              "      <td id=\"T_c1609_row13_col8\" class=\"data row13 col8\" >141</td>\n",
              "      <td id=\"T_c1609_row13_col9\" class=\"data row13 col9\" >228</td>\n",
              "      <td id=\"T_c1609_row13_col10\" class=\"data row13 col10\" >253</td>\n",
              "      <td id=\"T_c1609_row13_col11\" class=\"data row13 col11\" >253</td>\n",
              "      <td id=\"T_c1609_row13_col12\" class=\"data row13 col12\" >253</td>\n",
              "      <td id=\"T_c1609_row13_col13\" class=\"data row13 col13\" >251</td>\n",
              "      <td id=\"T_c1609_row13_col14\" class=\"data row13 col14\" >132</td>\n",
              "      <td id=\"T_c1609_row13_col15\" class=\"data row13 col15\" >0</td>\n",
              "      <td id=\"T_c1609_row13_col16\" class=\"data row13 col16\" >0</td>\n",
              "      <td id=\"T_c1609_row13_col17\" class=\"data row13 col17\" >0</td>\n",
              "    </tr>\n",
              "    <tr>\n",
              "      <th id=\"T_c1609_level0_row14\" class=\"row_heading level0 row14\" >14</th>\n",
              "      <td id=\"T_c1609_row14_col0\" class=\"data row14 col0\" >0</td>\n",
              "      <td id=\"T_c1609_row14_col1\" class=\"data row14 col1\" >0</td>\n",
              "      <td id=\"T_c1609_row14_col2\" class=\"data row14 col2\" >0</td>\n",
              "      <td id=\"T_c1609_row14_col3\" class=\"data row14 col3\" >0</td>\n",
              "      <td id=\"T_c1609_row14_col4\" class=\"data row14 col4\" >0</td>\n",
              "      <td id=\"T_c1609_row14_col5\" class=\"data row14 col5\" >0</td>\n",
              "      <td id=\"T_c1609_row14_col6\" class=\"data row14 col6\" >0</td>\n",
              "      <td id=\"T_c1609_row14_col7\" class=\"data row14 col7\" >0</td>\n",
              "      <td id=\"T_c1609_row14_col8\" class=\"data row14 col8\" >0</td>\n",
              "      <td id=\"T_c1609_row14_col9\" class=\"data row14 col9\" >4</td>\n",
              "      <td id=\"T_c1609_row14_col10\" class=\"data row14 col10\" >153</td>\n",
              "      <td id=\"T_c1609_row14_col11\" class=\"data row14 col11\" >253</td>\n",
              "      <td id=\"T_c1609_row14_col12\" class=\"data row14 col12\" >253</td>\n",
              "      <td id=\"T_c1609_row14_col13\" class=\"data row14 col13\" >253</td>\n",
              "      <td id=\"T_c1609_row14_col14\" class=\"data row14 col14\" >208</td>\n",
              "      <td id=\"T_c1609_row14_col15\" class=\"data row14 col15\" >4</td>\n",
              "      <td id=\"T_c1609_row14_col16\" class=\"data row14 col16\" >0</td>\n",
              "      <td id=\"T_c1609_row14_col17\" class=\"data row14 col17\" >0</td>\n",
              "    </tr>\n",
              "    <tr>\n",
              "      <th id=\"T_c1609_level0_row15\" class=\"row_heading level0 row15\" >15</th>\n",
              "      <td id=\"T_c1609_row15_col0\" class=\"data row15 col0\" >0</td>\n",
              "      <td id=\"T_c1609_row15_col1\" class=\"data row15 col1\" >0</td>\n",
              "      <td id=\"T_c1609_row15_col2\" class=\"data row15 col2\" >0</td>\n",
              "      <td id=\"T_c1609_row15_col3\" class=\"data row15 col3\" >0</td>\n",
              "      <td id=\"T_c1609_row15_col4\" class=\"data row15 col4\" >0</td>\n",
              "      <td id=\"T_c1609_row15_col5\" class=\"data row15 col5\" >0</td>\n",
              "      <td id=\"T_c1609_row15_col6\" class=\"data row15 col6\" >0</td>\n",
              "      <td id=\"T_c1609_row15_col7\" class=\"data row15 col7\" >0</td>\n",
              "      <td id=\"T_c1609_row15_col8\" class=\"data row15 col8\" >0</td>\n",
              "      <td id=\"T_c1609_row15_col9\" class=\"data row15 col9\" >0</td>\n",
              "      <td id=\"T_c1609_row15_col10\" class=\"data row15 col10\" >40</td>\n",
              "      <td id=\"T_c1609_row15_col11\" class=\"data row15 col11\" >226</td>\n",
              "      <td id=\"T_c1609_row15_col12\" class=\"data row15 col12\" >253</td>\n",
              "      <td id=\"T_c1609_row15_col13\" class=\"data row15 col13\" >253</td>\n",
              "      <td id=\"T_c1609_row15_col14\" class=\"data row15 col14\" >253</td>\n",
              "      <td id=\"T_c1609_row15_col15\" class=\"data row15 col15\" >84</td>\n",
              "      <td id=\"T_c1609_row15_col16\" class=\"data row15 col16\" >0</td>\n",
              "      <td id=\"T_c1609_row15_col17\" class=\"data row15 col17\" >0</td>\n",
              "    </tr>\n",
              "    <tr>\n",
              "      <th id=\"T_c1609_level0_row16\" class=\"row_heading level0 row16\" >16</th>\n",
              "      <td id=\"T_c1609_row16_col0\" class=\"data row16 col0\" >0</td>\n",
              "      <td id=\"T_c1609_row16_col1\" class=\"data row16 col1\" >0</td>\n",
              "      <td id=\"T_c1609_row16_col2\" class=\"data row16 col2\" >0</td>\n",
              "      <td id=\"T_c1609_row16_col3\" class=\"data row16 col3\" >0</td>\n",
              "      <td id=\"T_c1609_row16_col4\" class=\"data row16 col4\" >0</td>\n",
              "      <td id=\"T_c1609_row16_col5\" class=\"data row16 col5\" >0</td>\n",
              "      <td id=\"T_c1609_row16_col6\" class=\"data row16 col6\" >0</td>\n",
              "      <td id=\"T_c1609_row16_col7\" class=\"data row16 col7\" >0</td>\n",
              "      <td id=\"T_c1609_row16_col8\" class=\"data row16 col8\" >0</td>\n",
              "      <td id=\"T_c1609_row16_col9\" class=\"data row16 col9\" >0</td>\n",
              "      <td id=\"T_c1609_row16_col10\" class=\"data row16 col10\" >0</td>\n",
              "      <td id=\"T_c1609_row16_col11\" class=\"data row16 col11\" >39</td>\n",
              "      <td id=\"T_c1609_row16_col12\" class=\"data row16 col12\" >250</td>\n",
              "      <td id=\"T_c1609_row16_col13\" class=\"data row16 col13\" >253</td>\n",
              "      <td id=\"T_c1609_row16_col14\" class=\"data row16 col14\" >253</td>\n",
              "      <td id=\"T_c1609_row16_col15\" class=\"data row16 col15\" >188</td>\n",
              "      <td id=\"T_c1609_row16_col16\" class=\"data row16 col16\" >0</td>\n",
              "      <td id=\"T_c1609_row16_col17\" class=\"data row16 col17\" >0</td>\n",
              "    </tr>\n",
              "    <tr>\n",
              "      <th id=\"T_c1609_level0_row17\" class=\"row_heading level0 row17\" >17</th>\n",
              "      <td id=\"T_c1609_row17_col0\" class=\"data row17 col0\" >0</td>\n",
              "      <td id=\"T_c1609_row17_col1\" class=\"data row17 col1\" >0</td>\n",
              "      <td id=\"T_c1609_row17_col2\" class=\"data row17 col2\" >0</td>\n",
              "      <td id=\"T_c1609_row17_col3\" class=\"data row17 col3\" >0</td>\n",
              "      <td id=\"T_c1609_row17_col4\" class=\"data row17 col4\" >0</td>\n",
              "      <td id=\"T_c1609_row17_col5\" class=\"data row17 col5\" >63</td>\n",
              "      <td id=\"T_c1609_row17_col6\" class=\"data row17 col6\" >77</td>\n",
              "      <td id=\"T_c1609_row17_col7\" class=\"data row17 col7\" >164</td>\n",
              "      <td id=\"T_c1609_row17_col8\" class=\"data row17 col8\" >66</td>\n",
              "      <td id=\"T_c1609_row17_col9\" class=\"data row17 col9\" >66</td>\n",
              "      <td id=\"T_c1609_row17_col10\" class=\"data row17 col10\" >66</td>\n",
              "      <td id=\"T_c1609_row17_col11\" class=\"data row17 col11\" >118</td>\n",
              "      <td id=\"T_c1609_row17_col12\" class=\"data row17 col12\" >252</td>\n",
              "      <td id=\"T_c1609_row17_col13\" class=\"data row17 col13\" >253</td>\n",
              "      <td id=\"T_c1609_row17_col14\" class=\"data row17 col14\" >253</td>\n",
              "      <td id=\"T_c1609_row17_col15\" class=\"data row17 col15\" >158</td>\n",
              "      <td id=\"T_c1609_row17_col16\" class=\"data row17 col16\" >0</td>\n",
              "      <td id=\"T_c1609_row17_col17\" class=\"data row17 col17\" >0</td>\n",
              "    </tr>\n",
              "  </tbody>\n",
              "</table>\n"
            ]
          },
          "metadata": {},
          "execution_count": 7
        }
      ]
    },
    {
      "cell_type": "code",
      "source": [
        "three_tensors = [tensor(Image.open(i)) for i in threes]\n",
        "seven_tensors = [tensor(Image.open(i)) for i in sevens]\n",
        "len(three_tensors), len(seven_tensors)"
      ],
      "metadata": {
        "colab": {
          "base_uri": "https://localhost:8080/"
        },
        "id": "ILpx8n4r-YOz",
        "outputId": "387cb6e7-da42-43dc-dc4c-fea69f6f340d"
      },
      "execution_count": 8,
      "outputs": [
        {
          "output_type": "execute_result",
          "data": {
            "text/plain": [
              "(6131, 6265)"
            ]
          },
          "metadata": {},
          "execution_count": 8
        }
      ]
    },
    {
      "cell_type": "code",
      "source": [
        "show_image(three_tensors[2])"
      ],
      "metadata": {
        "colab": {
          "base_uri": "https://localhost:8080/",
          "height": 132
        },
        "id": "eyRrDZPVpc7F",
        "outputId": "5e7b5fd0-7684-40ef-c6b6-d0e3f3bcf7d3"
      },
      "execution_count": 9,
      "outputs": [
        {
          "output_type": "execute_result",
          "data": {
            "text/plain": [
              "<Axes: >"
            ]
          },
          "metadata": {},
          "execution_count": 9
        },
        {
          "output_type": "display_data",
          "data": {
            "text/plain": [
              "<Figure size 100x100 with 1 Axes>"
            ],
            "image/png": "[encoded data removed]"
          },
          "metadata": {}
        }
      ]
    },
    {
      "cell_type": "code",
      "source": [
        "stacked_threes = torch.stack(three_tensors).float()/255\n",
        "stacked_sevens = torch.stack(seven_tensors).float()/255\n",
        "stacked_sevens.shape"
      ],
      "metadata": {
        "colab": {
          "base_uri": "https://localhost:8080/"
        },
        "id": "DZgQAX3lp9Em",
        "outputId": "c3cbf421-8e7a-4fc1-a4dd-301cba3ab5d1"
      },
      "execution_count": 10,
      "outputs": [
        {
          "output_type": "execute_result",
          "data": {
            "text/plain": [
              "torch.Size([6265, 28, 28])"
            ]
          },
          "metadata": {},
          "execution_count": 10
        }
      ]
    },
    {
      "cell_type": "code",
      "source": [
        "mean3 = stacked_threes.mean(0)\n",
        "mean7 = stacked_sevens.mean(0)\n",
        "show_image(mean3)"
      ],
      "metadata": {
        "colab": {
          "base_uri": "https://localhost:8080/",
          "height": 132
        },
        "id": "za9tm844rFTw",
        "outputId": "000cbb00-e8f5-4a06-b6c0-20fdb15f6e94"
      },
      "execution_count": 11,
      "outputs": [
        {
          "output_type": "execute_result",
          "data": {
            "text/plain": [
              "<Axes: >"
            ]
          },
          "metadata": {},
          "execution_count": 11
        },
        {
          "output_type": "display_data",
          "data": {
            "text/plain": [
              "<Figure size 100x100 with 1 Axes>"
            ],
            "image/png": "[encoded data removed]"
          },
          "metadata": {}
        }
      ]
    },
    {
      "cell_type": "code",
      "source": [
        "show_image(mean7)"
      ],
      "metadata": {
        "colab": {
          "base_uri": "https://localhost:8080/",
          "height": 132
        },
        "id": "oU8aEG-arqJU",
        "outputId": "6ed9ff4c-f4b2-4586-9876-5ba2f510fbff"
      },
      "execution_count": 12,
      "outputs": [
        {
          "output_type": "execute_result",
          "data": {
            "text/plain": [
              "<Axes: >"
            ]
          },
          "metadata": {},
          "execution_count": 12
        },
        {
          "output_type": "display_data",
          "data": {
            "text/plain": [
              "<Figure size 100x100 with 1 Axes>"
            ],
            "image/png": "[encoded data removed]"
          },
          "metadata": {}
        }
      ]
    },
    {
      "cell_type": "code",
      "source": [
        "s_3 = stacked_threes[1]\n",
        "show_image(s_3)"
      ],
      "metadata": {
        "colab": {
          "base_uri": "https://localhost:8080/",
          "height": 132
        },
        "id": "e1AAIseQrsLO",
        "outputId": "354bd1ea-6d3b-47a7-c878-3ff397c85f42"
      },
      "execution_count": 13,
      "outputs": [
        {
          "output_type": "execute_result",
          "data": {
            "text/plain": [
              "<Axes: >"
            ]
          },
          "metadata": {},
          "execution_count": 13
        },
        {
          "output_type": "display_data",
          "data": {
            "text/plain": [
              "<Figure size 100x100 with 1 Axes>"
            ],
            "image/png": "[encoded data removed]"
          },
          "metadata": {}
        }
      ]
    },
    {
      "cell_type": "code",
      "source": [
        "mae = (s_3 - mean3).abs().mean()\n",
        "rmse = ((s_3 - mean3)**2).mean().sqrt()\n",
        "mae, rmse"
      ],
      "metadata": {
        "colab": {
          "base_uri": "https://localhost:8080/"
        },
        "id": "mrF46PvOsNUw",
        "outputId": "50da1470-2480-48b6-c21e-ebf5afdb197b"
      },
      "execution_count": 14,
      "outputs": [
        {
          "output_type": "execute_result",
          "data": {
            "text/plain": [
              "(tensor(0.1114), tensor(0.2021))"
            ]
          },
          "metadata": {},
          "execution_count": 14
        }
      ]
    },
    {
      "cell_type": "code",
      "source": [
        "mae = (s_3 - mean7).abs().mean()\n",
        "rmse = ((s_3 - mean7)**2).mean().sqrt()\n",
        "mae, rmse"
      ],
      "metadata": {
        "colab": {
          "base_uri": "https://localhost:8080/"
        },
        "id": "t0TbQyHOsxtw",
        "outputId": "b45af758-9909-4db4-f4bd-cf0613081034"
      },
      "execution_count": 15,
      "outputs": [
        {
          "output_type": "execute_result",
          "data": {
            "text/plain": [
              "(tensor(0.1586), tensor(0.3021))"
            ]
          },
          "metadata": {},
          "execution_count": 15
        }
      ]
    },
    {
      "cell_type": "code",
      "source": [
        "data = [[1,2,3], [4,5,6]]\n",
        "arr = array(data)\n",
        "tns = tensor(data)"
      ],
      "metadata": {
        "id": "s6UGcbBZs5h1"
      },
      "execution_count": 16,
      "outputs": []
    },
    {
      "cell_type": "code",
      "source": [
        "arr, tns"
      ],
      "metadata": {
        "colab": {
          "base_uri": "https://localhost:8080/"
        },
        "id": "lDsR-UrXwHNG",
        "outputId": "0a10e3be-8c1b-434d-d47d-b48a6ffceced"
      },
      "execution_count": 17,
      "outputs": [
        {
          "output_type": "execute_result",
          "data": {
            "text/plain": [
              "(array([[1, 2, 3],\n",
              "        [4, 5, 6]]),\n",
              " tensor([[1, 2, 3],\n",
              "         [4, 5, 6]]))"
            ]
          },
          "metadata": {},
          "execution_count": 17
        }
      ]
    },
    {
      "cell_type": "code",
      "source": [
        "valid_3_tens = torch.stack([tensor(Image.open(i)) for i in (path/'valid'/'3').ls()])\n",
        "valid_3_tens = valid_3_tens.float()/255\n",
        "\n",
        "valid_7_tens = torch.stack([tensor(Image.open(i)) for i in (path/'valid'/'7').ls()])\n",
        "valid_7_tens = valid_7_tens.float()/255\n",
        "\n",
        "valid_3_tens.shape, valid_7_tens.shape"
      ],
      "metadata": {
        "colab": {
          "base_uri": "https://localhost:8080/"
        },
        "id": "zaUh6uqBwJHe",
        "outputId": "53dcfae1-cc9a-45d9-82d8-ceaf14440350"
      },
      "execution_count": 18,
      "outputs": [
        {
          "output_type": "execute_result",
          "data": {
            "text/plain": [
              "(torch.Size([1010, 28, 28]), torch.Size([1028, 28, 28]))"
            ]
          },
          "metadata": {},
          "execution_count": 18
        }
      ]
    },
    {
      "cell_type": "code",
      "source": [
        "def mae(a, b):\n",
        "  return (a-b).abs().mean((-1, -2))\n",
        "\n",
        "mae(s_3, mean3)"
      ],
      "metadata": {
        "id": "qPjBM-pJxK-G",
        "colab": {
          "base_uri": "https://localhost:8080/"
        },
        "outputId": "8a07ffb2-94a7-4841-943b-7fbf4726036b"
      },
      "execution_count": 19,
      "outputs": [
        {
          "output_type": "execute_result",
          "data": {
            "text/plain": [
              "tensor(0.1114)"
            ]
          },
          "metadata": {},
          "execution_count": 19
        }
      ]
    },
    {
      "cell_type": "code",
      "source": [
        "valid_3_errors = mae(valid_3_tens, mean3)\n",
        "valid_7_errors = mae(valid_7_tens, mean7)\n",
        "valid_3_errors.shape, valid_7_errors.shape"
      ],
      "metadata": {
        "colab": {
          "base_uri": "https://localhost:8080/"
        },
        "id": "K19z38rL2dG4",
        "outputId": "d433429c-d11f-4439-b380-343f56516daa"
      },
      "execution_count": 20,
      "outputs": [
        {
          "output_type": "execute_result",
          "data": {
            "text/plain": [
              "(torch.Size([1010]), torch.Size([1028]))"
            ]
          },
          "metadata": {},
          "execution_count": 20
        }
      ]
    },
    {
      "cell_type": "code",
      "source": [
        "def is_3(x):\n",
        "  return mae(x, mean3) < mae(x, mean7)\n",
        "\n",
        "def is_7(x):\n",
        "  return mae(x, mean7) < mae(x, mean3)\n",
        "\n",
        "is_3(s_3), is_3(s_3).float()"
      ],
      "metadata": {
        "colab": {
          "base_uri": "https://localhost:8080/"
        },
        "id": "vZmDtMas3GDZ",
        "outputId": "393bfdaa-dc55-42a5-db60-6705ca7caba7"
      },
      "execution_count": 22,
      "outputs": [
        {
          "output_type": "execute_result",
          "data": {
            "text/plain": [
              "(tensor(True), tensor(1.))"
            ]
          },
          "metadata": {},
          "execution_count": 22
        }
      ]
    },
    {
      "cell_type": "code",
      "source": [
        "accuracy_3s = is_3(valid_3_tens).float().mean()\n",
        "accuracy_7s = is_7(valid_7_tens).float().mean()\n",
        "\n",
        "accuracy_3s, accuracy_7s, (accuracy_3s+accuracy_7s)/2"
      ],
      "metadata": {
        "colab": {
          "base_uri": "https://localhost:8080/"
        },
        "id": "qblGqdwj4uUN",
        "outputId": "194628e9-a430-4566-88b4-3ef6d54826e4"
      },
      "execution_count": 24,
      "outputs": [
        {
          "output_type": "execute_result",
          "data": {
            "text/plain": [
              "(tensor(0.9168), tensor(0.9854), tensor(0.9511))"
            ]
          },
          "metadata": {},
          "execution_count": 24
        }
      ]
    },
    {
      "cell_type": "code",
      "source": [
        "def loss(w):\n",
        "  return w**2"
      ],
      "metadata": {
        "id": "xos0J6-x5FFe"
      },
      "execution_count": 25,
      "outputs": []
    },
    {
      "cell_type": "code",
      "source": [
        "def plot_function(f, tx=None, ty=None, title=None, min=-2, max=2, figsize=(6,4)):\n",
        "    x = torch.linspace(min,max, steps = 100)\n",
        "    fig,ax = plt.subplots(figsize=figsize)\n",
        "    ax.plot(x,f(x))\n",
        "    if tx is not None: ax.set_xlabel(tx)\n",
        "    if ty is not None: ax.set_ylabel(ty)\n",
        "    if title is not None: ax.set_title(title)"
      ],
      "metadata": {
        "id": "7P0QBsTsA_nu"
      },
      "execution_count": 28,
      "outputs": []
    },
    {
      "cell_type": "code",
      "source": [
        "plot_function(loss, 'w', 'loss', min = -5, max = 5)"
      ],
      "metadata": {
        "colab": {
          "base_uri": "https://localhost:8080/",
          "height": 388
        },
        "id": "sY2ccJhPCEsJ",
        "outputId": "d127ed5c-a2fc-4279-8ec1-10d7617abc64"
      },
      "execution_count": 29,
      "outputs": [
        {
          "output_type": "display_data",
          "data": {
            "text/plain": [
              "<Figure size 600x400 with 1 Axes>"
            ],
            "image/png": "[encoded data removed]"
          },
          "metadata": {}
        }
      ]
    },
    {
      "cell_type": "code",
      "source": [
        "plot_function(loss, 'w', 'loss', min = -5, max = 5)\n",
        "plt.scatter(-3, loss(-3), color = 'red')"
      ],
      "metadata": {
        "colab": {
          "base_uri": "https://localhost:8080/",
          "height": 406
        },
        "id": "vaZJR289Cbc1",
        "outputId": "637c38b7-9090-45a0-f2b1-40979778fda5"
      },
      "execution_count": 30,
      "outputs": [
        {
          "output_type": "execute_result",
          "data": {
            "text/plain": [
              "<matplotlib.collections.PathCollection at 0x7e367efd8a90>"
            ]
          },
          "metadata": {},
          "execution_count": 30
        },
        {
          "output_type": "display_data",
          "data": {
            "text/plain": [
              "<Figure size 600x400 with 1 Axes>"
            ],
            "image/png": "[encoded data removed]"
          },
          "metadata": {}
        }
      ]
    },
    {
      "cell_type": "code",
      "source": [
        "#@title Tangent Line of Parabola { display-mode: \"both\" }\n",
        "def parabola_tangent_liner(w):\n",
        "  # calculating parabola(quadratic)\n",
        "  def loss(w):\n",
        "    return w**2\n",
        "\n",
        "  # slope of the parabola\n",
        "  def slope(w):\n",
        "    return 2*w\n",
        "  # range for plotting parabola\n",
        "  w_range = np.linspace(-5, 5, 100)\n",
        "\n",
        "  w = w # assign user defined value\n",
        "  loss_v = loss(w) # get the value for the user-defined point\n",
        "\n",
        "  # tangent line according to # y = slope*(x - x1) + y1\n",
        "  def line(w_range, w, loss_v):\n",
        "    return slope(w)*(w_range-w)+loss_v\n",
        "\n",
        "  # range for plotting line\n",
        "  line_range = np.linspace(w-1, w+1, 20)\n",
        "\n",
        "  # plotting\n",
        "  plt.plot(w_range, loss(w_range), color='blue')\n",
        "  plt.scatter(w, loss_v, color='r', s=50)\n",
        "  plt.plot(line_range, line(line_range, w, loss_v), 'r--')\n",
        "  plt.xlabel('w')\n",
        "  plt.ylabel('loss')"
      ],
      "metadata": {
        "id": "Gn1zPjmxDDmn"
      },
      "execution_count": 31,
      "outputs": []
    },
    {
      "cell_type": "code",
      "source": [
        "parabola_tangent_liner(3)"
      ],
      "metadata": {
        "colab": {
          "base_uri": "https://localhost:8080/",
          "height": 449
        },
        "id": "se7II5E1FOrG",
        "outputId": "1f329568-639d-43c3-b42e-0daceb332ed7"
      },
      "execution_count": 34,
      "outputs": [
        {
          "output_type": "display_data",
          "data": {
            "text/plain": [
              "<Figure size 640x480 with 1 Axes>"
            ],
            "image/png": "[encoded data removed]"
          },
          "metadata": {}
        }
      ]
    },
    {
      "cell_type": "code",
      "source": [
        "w_t = torch.tensor(3., requires_grad=True)\n",
        "w_t"
      ],
      "metadata": {
        "colab": {
          "base_uri": "https://localhost:8080/"
        },
        "id": "VIXDIdSkFR9Z",
        "outputId": "fbbae0ad-6216-46b6-9f90-314d743e3845"
      },
      "execution_count": 35,
      "outputs": [
        {
          "output_type": "execute_result",
          "data": {
            "text/plain": [
              "tensor(3., requires_grad=True)"
            ]
          },
          "metadata": {},
          "execution_count": 35
        }
      ]
    },
    {
      "cell_type": "code",
      "source": [
        "loss_v = loss(w_t)\n",
        "loss_v"
      ],
      "metadata": {
        "colab": {
          "base_uri": "https://localhost:8080/"
        },
        "id": "AnmqnTqtGktJ",
        "outputId": "85a4d286-65dc-4532-e21d-dcb7356a4cda"
      },
      "execution_count": 36,
      "outputs": [
        {
          "output_type": "execute_result",
          "data": {
            "text/plain": [
              "tensor(9., grad_fn=<PowBackward0>)"
            ]
          },
          "metadata": {},
          "execution_count": 36
        }
      ]
    },
    {
      "cell_type": "code",
      "source": [
        "loss_v.backward()"
      ],
      "metadata": {
        "id": "YW6SMVF8Hip5"
      },
      "execution_count": 37,
      "outputs": []
    },
    {
      "cell_type": "markdown",
      "source": [
        "The derivative from w**2 is 2*w"
      ],
      "metadata": {
        "id": "5QhoGAaHHtif"
      }
    },
    {
      "cell_type": "code",
      "source": [
        "w_t.grad"
      ],
      "metadata": {
        "colab": {
          "base_uri": "https://localhost:8080/"
        },
        "id": "GFjLR6PuHmYY",
        "outputId": "305f8da0-3b31-4a6b-fcf3-eb57f3866fc4"
      },
      "execution_count": 39,
      "outputs": [
        {
          "output_type": "execute_result",
          "data": {
            "text/plain": [
              "tensor(6.)"
            ]
          },
          "metadata": {},
          "execution_count": 39
        }
      ]
    },
    {
      "cell_type": "code",
      "source": [
        "time = torch.arange(0, 20).float()\n",
        "time"
      ],
      "metadata": {
        "colab": {
          "base_uri": "https://localhost:8080/"
        },
        "id": "lDFU-WWVHpMd",
        "outputId": "bb080f08-1b0b-4d6a-82f3-d964ff8337a7"
      },
      "execution_count": 36,
      "outputs": [
        {
          "output_type": "execute_result",
          "data": {
            "text/plain": [
              "tensor([ 0.,  1.,  2.,  3.,  4.,  5.,  6.,  7.,  8.,  9., 10., 11., 12., 13.,\n",
              "        14., 15., 16., 17., 18., 19.])"
            ]
          },
          "metadata": {},
          "execution_count": 36
        }
      ]
    },
    {
      "cell_type": "code",
      "source": [
        "from matplotlib import pyplot as plt\n",
        "speed = torch.randn(20)*3+0.75*(time-9.5)**2+1\n",
        "\n",
        "# plotting\n",
        "plt.scatter(time, speed,)\n",
        "plt.xlabel('time')\n",
        "plt.ylabel('speed')\n",
        "plt.title('Roller Coaster Tezligi')"
      ],
      "metadata": {
        "colab": {
          "base_uri": "https://localhost:8080/",
          "height": 490
        },
        "id": "RF5IuV0mmoSd",
        "outputId": "fb521262-d77c-48a4-abaa-e7a8320c383d"
      },
      "execution_count": 37,
      "outputs": [
        {
          "output_type": "execute_result",
          "data": {
            "text/plain": [
              "Text(0.5, 1.0, 'Roller Coaster Tezligi')"
            ]
          },
          "metadata": {},
          "execution_count": 37
        },
        {
          "output_type": "display_data",
          "data": {
            "text/plain": [
              "<Figure size 640x480 with 1 Axes>"
            ],
            "image/png": "[encoded data removed]"
          },
          "metadata": {}
        }
      ]
    },
    {
      "cell_type": "code",
      "source": [
        "def f(time, params):\n",
        "  a, b, c = params\n",
        "  return a*(time**2) + b*time + c"
      ],
      "metadata": {
        "id": "t4o_03bbm15j"
      },
      "execution_count": 38,
      "outputs": []
    },
    {
      "cell_type": "code",
      "source": [
        "# MSE\n",
        "def mse(preds, targets):\n",
        "  return ((preds - targets)**2).mean()"
      ],
      "metadata": {
        "id": "sLWD385lnZ1x"
      },
      "execution_count": 39,
      "outputs": []
    },
    {
      "cell_type": "markdown",
      "source": [
        "1 - step:\n",
        "Initialize (Vaznlarni boshlangish qiymatini yaratib olish)"
      ],
      "metadata": {
        "id": "CctPQvvWoP6B"
      }
    },
    {
      "cell_type": "code",
      "source": [
        "params = torch.randn(3).requires_grad_()\n",
        "params"
      ],
      "metadata": {
        "colab": {
          "base_uri": "https://localhost:8080/"
        },
        "id": "ZO-QefZKnx3p",
        "outputId": "f05b4eda-4078-45e9-f976-511d339eff77"
      },
      "execution_count": 40,
      "outputs": [
        {
          "output_type": "execute_result",
          "data": {
            "text/plain": [
              "tensor([ 0.0946, -0.9950,  0.0891], requires_grad=True)"
            ]
          },
          "metadata": {},
          "execution_count": 40
        }
      ]
    },
    {
      "cell_type": "markdown",
      "source": [
        "2 - step:\n",
        "Prediction"
      ],
      "metadata": {
        "id": "IQQOKQjxob6v"
      }
    },
    {
      "cell_type": "code",
      "source": [
        "preds = f(time, params)\n",
        "preds"
      ],
      "metadata": {
        "colab": {
          "base_uri": "https://localhost:8080/"
        },
        "id": "UNwyvy-HoGAh",
        "outputId": "a54c3c82-485e-4b26-a9bb-66ec00442eb4"
      },
      "execution_count": 41,
      "outputs": [
        {
          "output_type": "execute_result",
          "data": {
            "text/plain": [
              "tensor([ 0.0891, -0.8113, -1.5224, -2.0443, -2.3769, -2.5202, -2.4742, -2.2390,\n",
              "        -1.8144, -1.2007, -0.3976,  0.5948,  1.7764,  3.1473,  4.7075,  6.4569,\n",
              "         8.3956, 10.5236, 12.8409, 15.3474], grad_fn=<AddBackward0>)"
            ]
          },
          "metadata": {},
          "execution_count": 41
        }
      ]
    },
    {
      "cell_type": "markdown",
      "source": [
        "3 - step:\n",
        "Loss ni hisoblash"
      ],
      "metadata": {
        "id": "GDBbywdmqz_0"
      }
    },
    {
      "cell_type": "code",
      "source": [
        "loss = mse(preds, speed)\n",
        "loss"
      ],
      "metadata": {
        "colab": {
          "base_uri": "https://localhost:8080/"
        },
        "id": "Gu_UP3a1oyqY",
        "outputId": "1f50ff24-69d0-4aa6-86f6-d324573325e1"
      },
      "execution_count": 42,
      "outputs": [
        {
          "output_type": "execute_result",
          "data": {
            "text/plain": [
              "tensor(987.2477, grad_fn=<MeanBackward0>)"
            ]
          },
          "metadata": {},
          "execution_count": 42
        }
      ]
    },
    {
      "cell_type": "markdown",
      "source": [
        "4 - step:\n",
        "Gradientni hisoblash"
      ],
      "metadata": {
        "id": "BMqPovbIrJy6"
      }
    },
    {
      "cell_type": "code",
      "source": [
        "loss.backward(retain_graph=True)\n",
        "params.grad"
      ],
      "metadata": {
        "colab": {
          "base_uri": "https://localhost:8080/"
        },
        "id": "b8kfdR_dq-Qu",
        "outputId": "48f7a3ee-4cd9-49f1-915f-d6805705ae80"
      },
      "execution_count": 43,
      "outputs": [
        {
          "output_type": "execute_result",
          "data": {
            "text/plain": [
              "tensor([-6390.4707,  -425.0193,   -49.2889])"
            ]
          },
          "metadata": {},
          "execution_count": 43
        }
      ]
    },
    {
      "cell_type": "markdown",
      "source": [
        "5 -step: Step"
      ],
      "metadata": {
        "id": "H99Ckblar7IJ"
      }
    },
    {
      "cell_type": "code",
      "source": [
        "lr = 1e-5\n",
        "params.data -=lr*params.grad.data\n",
        "params.grad = None"
      ],
      "metadata": {
        "id": "olOD813SrSJA"
      },
      "execution_count": 44,
      "outputs": []
    },
    {
      "cell_type": "code",
      "source": [
        "preds = f(time, params)\n",
        "# yangi olingan bashorat uchun xatolikni hisoblash\n",
        "mse(preds, speed)"
      ],
      "metadata": {
        "colab": {
          "base_uri": "https://localhost:8080/"
        },
        "id": "6hW4t0kMsF-y",
        "outputId": "82e6788a-78a3-45cc-8c1a-0cc674607759"
      },
      "execution_count": 45,
      "outputs": [
        {
          "output_type": "execute_result",
          "data": {
            "text/plain": [
              "tensor(692.9176, grad_fn=<MeanBackward0>)"
            ]
          },
          "metadata": {},
          "execution_count": 45
        }
      ]
    },
    {
      "cell_type": "code",
      "source": [
        "def apply_step(params, prn=True):\n",
        "  preds = f(time, params)\n",
        "  loss = mse(preds, speed)\n",
        "  loss.backward()\n",
        "  params.data -= lr*params.grad.data\n",
        "  params.grad = None\n",
        "  if prn: print(loss.item())\n",
        "  return preds"
      ],
      "metadata": {
        "id": "3vQsJsX4sRyb"
      },
      "execution_count": 46,
      "outputs": []
    },
    {
      "cell_type": "code",
      "source": [
        "for epoch in range(10):\n",
        "  apply_step(params)"
      ],
      "metadata": {
        "colab": {
          "base_uri": "https://localhost:8080/"
        },
        "id": "SnJClF7Hsv6A",
        "outputId": "bcaab8f0-6170-4c7f-e101-de1767b38db8"
      },
      "execution_count": 47,
      "outputs": [
        {
          "output_type": "stream",
          "name": "stdout",
          "text": [
            "692.9176025390625\n",
            "637.2158813476562\n",
            "626.6700439453125\n",
            "624.6689453125\n",
            "624.2847900390625\n",
            "624.2067260742188\n",
            "624.1865234375\n",
            "624.1773681640625\n",
            "624.1701049804688\n",
            "624.1632080078125\n"
          ]
        }
      ]
    },
    {
      "cell_type": "code",
      "source": [
        "_ , axs = plt.subplots(1, 4, figsize=(14, 3))\n",
        "for ax in axs:\n",
        "  show_preds(apply_step(params, prn=False), ax)\n",
        "plt.tight_layout()"
      ],
      "metadata": {
        "colab": {
          "base_uri": "https://localhost:8080/",
          "height": 251
        },
        "id": "GOIFXUYVsy7v",
        "outputId": "f263ed45-6b86-4e8d-880e-a2a5670ba6be"
      },
      "execution_count": 48,
      "outputs": [
        {
          "output_type": "display_data",
          "data": {
            "text/plain": [
              "<Figure size 1400x300 with 4 Axes>"
            ],
            "image/png": "[encoded data removed]"
          },
          "metadata": {}
        }
      ]
    },
    {
      "cell_type": "code",
      "source": [],
      "metadata": {
        "id": "ElKDwoKAtCDf"
      },
      "execution_count": null,
      "outputs": []
    }
  ]
}